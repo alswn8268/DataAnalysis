{
 "cells": [
  {
   "cell_type": "code",
   "execution_count": 1,
   "metadata": {},
   "outputs": [],
   "source": [
    "import warnings # 경고 메시지를 출력하지 않게 하기 위해 improt\n",
    "warnings.filterwarnings(\"ignore\") # 경고 메시지를 출력하지 않게 한다.\n",
    "import numpy as np # 수치 계산, 배열 처리를 위해 import 한다.\n",
    "import pandas as pd # 데이터 분석을 위한 전처리를 위해 import 한다.\n",
    "import matplotlib as mpl # matplotlib에서 음수 데이터의 '-' 부호가 깨지는 것을 방지하기 위해 import한다.\n",
    "mpl.rcParams['axes.unicode_minus'] = False # matplotlib에서 음수 데이터의 '-' 부호가 깨지는 것을 방지한다.\n",
    "import matplotlib.pyplot as plt # 시각화를 하기 위해 import한다.\n",
    "plt.rcParams[\"font.family\"] = \"Pretendard\" # matplotlib에서 사용할 글꼴을 지정한다.\n",
    "plt.rcParams[\"font.size\"] = 10 # matplotlib에서 사용할 글꼴 크기를 지정한다.\n",
    "import seaborn as sns # 시각화를 하기 위해 import한다. matplotlib 기반으로 만든 시각화 도구\n",
    "from plotnine import * # R의 ggplot2 패키지를 사용하는 것처럼 만드는 시각화 도구를 import한다.\n",
    "import missingno as msno # 누락값의 분포를 그래프 형태로 표현한다.\n",
    "import folium"
   ]
  },
  {
   "cell_type": "code",
   "execution_count": null,
   "metadata": {},
   "outputs": [],
   "source": []
  },
  {
   "cell_type": "code",
   "execution_count": null,
   "metadata": {},
   "outputs": [],
   "source": []
  },
  {
   "cell_type": "code",
   "execution_count": null,
   "metadata": {},
   "outputs": [],
   "source": []
  }
 ],
 "metadata": {
  "kernelspec": {
   "display_name": "Python 3",
   "language": "python",
   "name": "python3"
  },
  "language_info": {
   "codemirror_mode": {
    "name": "ipython",
    "version": 3
   },
   "file_extension": ".py",
   "mimetype": "text/x-python",
   "name": "python",
   "nbconvert_exporter": "python",
   "pygments_lexer": "ipython3",
   "version": "3.6.8"
  },
  "orig_nbformat": 4,
  "vscode": {
   "interpreter": {
    "hash": "1e760402ee75e3cab2c7619209863d9b2d8a0aa8377d48028519e2794ee23e53"
   }
  }
 },
 "nbformat": 4,
 "nbformat_minor": 2
}
